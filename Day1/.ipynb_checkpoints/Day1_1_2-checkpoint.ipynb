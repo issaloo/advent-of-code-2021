{
 "cells": [
  {
   "cell_type": "code",
   "execution_count": 39,
   "id": "f3122400",
   "metadata": {},
   "outputs": [],
   "source": [
    "import pandas as pd"
   ]
  },
  {
   "cell_type": "markdown",
   "id": "00fbeead",
   "metadata": {},
   "source": [
    "# Part 1"
   ]
  },
  {
   "cell_type": "code",
   "execution_count": 40,
   "id": "e7eb866a",
   "metadata": {},
   "outputs": [],
   "source": [
    "# load data\n",
    "with open('Day1.txt') as f:\n",
    "    num_list = f.read().splitlines()"
   ]
  },
  {
   "cell_type": "code",
   "execution_count": 41,
   "id": "d793ddbd",
   "metadata": {},
   "outputs": [],
   "source": [
    "# convert to dataframe\n",
    "num_df = pd.DataFrame(num_list, columns=['val'])\n",
    "num_df = num_df.astype(int)"
   ]
  },
  {
   "cell_type": "code",
   "execution_count": 44,
   "id": "b49d4216",
   "metadata": {},
   "outputs": [
    {
     "data": {
      "text/plain": [
       "1711"
      ]
     },
     "execution_count": 44,
     "metadata": {},
     "output_type": "execute_result"
    }
   ],
   "source": [
    "# create lag\n",
    "num_df['lag'] = num_df.shift(1)\n",
    "\n",
    "# num where next val > prev val\n",
    "sum(num_df['val'] > num_df['lag'])"
   ]
  },
  {
   "cell_type": "markdown",
   "id": "a6c786e4",
   "metadata": {},
   "source": [
    "# Part 2"
   ]
  },
  {
   "cell_type": "code",
   "execution_count": 52,
   "id": "94864f97",
   "metadata": {},
   "outputs": [],
   "source": [
    "rolling_df = pd.DataFrame(num_df['val'].rolling(3).sum(), columns=['val'])\n",
    "rolling_df['lag'] = rolling_df.shift(1)"
   ]
  },
  {
   "cell_type": "code",
   "execution_count": 54,
   "id": "851050f9",
   "metadata": {},
   "outputs": [
    {
     "data": {
      "text/plain": [
       "1743"
      ]
     },
     "execution_count": 54,
     "metadata": {},
     "output_type": "execute_result"
    }
   ],
   "source": [
    "sum(rolling_df['val'] > rolling_df['lag'])"
   ]
  },
  {
   "cell_type": "code",
   "execution_count": null,
   "id": "e495406c",
   "metadata": {},
   "outputs": [],
   "source": []
  }
 ],
 "metadata": {
  "kernelspec": {
   "display_name": "Python 3",
   "language": "python",
   "name": "python3"
  },
  "language_info": {
   "codemirror_mode": {
    "name": "ipython",
    "version": 3
   },
   "file_extension": ".py",
   "mimetype": "text/x-python",
   "name": "python",
   "nbconvert_exporter": "python",
   "pygments_lexer": "ipython3",
   "version": "3.9.5"
  }
 },
 "nbformat": 4,
 "nbformat_minor": 5
}
