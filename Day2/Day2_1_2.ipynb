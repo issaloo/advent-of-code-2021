{
 "cells": [
  {
   "cell_type": "code",
   "execution_count": 2,
   "id": "07df3b85",
   "metadata": {},
   "outputs": [],
   "source": [
    "# load data\n",
    "with open('Day2.txt') as f:\n",
    "    num_list = f.read().splitlines()"
   ]
  },
  {
   "cell_type": "markdown",
   "id": "d1c1c1ee",
   "metadata": {},
   "source": [
    "# Part 1"
   ]
  },
  {
   "cell_type": "code",
   "execution_count": 7,
   "id": "f3adcc6d",
   "metadata": {},
   "outputs": [],
   "source": [
    "horizontal = 0\n",
    "depth = 0\n",
    "for val in num_list:\n",
    "    val_list = val.split()\n",
    "    if val_list[0].lower() == 'forward':\n",
    "        horizontal += int(val_list[1])\n",
    "    elif val_list[0].lower() == 'up':\n",
    "        depth -= int(val_list[1])\n",
    "    else:\n",
    "        depth += int(val_list[1])"
   ]
  },
  {
   "cell_type": "code",
   "execution_count": 8,
   "id": "d544b5af",
   "metadata": {},
   "outputs": [
    {
     "data": {
      "text/plain": [
       "1480518"
      ]
     },
     "execution_count": 8,
     "metadata": {},
     "output_type": "execute_result"
    }
   ],
   "source": [
    "depth*horizontal"
   ]
  },
  {
   "cell_type": "markdown",
   "id": "13822989",
   "metadata": {},
   "source": [
    "# Part 2"
   ]
  },
  {
   "cell_type": "code",
   "execution_count": 11,
   "id": "4b578fdf",
   "metadata": {},
   "outputs": [],
   "source": [
    "horizontal = 0\n",
    "depth = 0\n",
    "aim = 0\n",
    "for val in num_list:\n",
    "    val_list = val.split()\n",
    "    if val_list[0].lower() == 'forward':\n",
    "        horizontal += int(val_list[1])\n",
    "        depth += aim*int(val_list[1])\n",
    "    elif val_list[0].lower() == 'up':\n",
    "        aim -= int(val_list[1])\n",
    "    else:\n",
    "        aim += int(val_list[1])"
   ]
  },
  {
   "cell_type": "code",
   "execution_count": 12,
   "id": "2133d96b",
   "metadata": {},
   "outputs": [
    {
     "data": {
      "text/plain": [
       "1282809906"
      ]
     },
     "execution_count": 12,
     "metadata": {},
     "output_type": "execute_result"
    }
   ],
   "source": [
    "horizontal*depth"
   ]
  },
  {
   "cell_type": "code",
   "execution_count": null,
   "id": "449ee53d",
   "metadata": {},
   "outputs": [],
   "source": []
  }
 ],
 "metadata": {
  "kernelspec": {
   "display_name": "Python 3",
   "language": "python",
   "name": "python3"
  },
  "language_info": {
   "codemirror_mode": {
    "name": "ipython",
    "version": 3
   },
   "file_extension": ".py",
   "mimetype": "text/x-python",
   "name": "python",
   "nbconvert_exporter": "python",
   "pygments_lexer": "ipython3",
   "version": "3.9.5"
  }
 },
 "nbformat": 4,
 "nbformat_minor": 5
}
