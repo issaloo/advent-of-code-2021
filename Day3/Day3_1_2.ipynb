{
 "cells": [
  {
   "cell_type": "code",
   "execution_count": 205,
   "id": "bde0a47e",
   "metadata": {},
   "outputs": [],
   "source": [
    "import numpy as np"
   ]
  },
  {
   "cell_type": "code",
   "execution_count": 206,
   "id": "bbec88d7",
   "metadata": {},
   "outputs": [],
   "source": [
    "# load data\n",
    "with open('Day3.txt') as f:\n",
    "    num_list = f.read().splitlines()"
   ]
  },
  {
   "cell_type": "markdown",
   "id": "b1290646",
   "metadata": {},
   "source": [
    "# Part 1"
   ]
  },
  {
   "cell_type": "code",
   "execution_count": 207,
   "id": "f486ebc7",
   "metadata": {},
   "outputs": [],
   "source": [
    "split_list = [list(val) for val in num_list]\n",
    "split_array = np.array(split_list).astype(int)\n",
    "percent_array = np.sum(split_array, axis=0)/split_array.shape[0]\n",
    "most_common = ''.join(np.round(percent_array).astype(int).astype(str).tolist())\n",
    "least_common = ''.join(np.round(1 - percent_array).astype(int).astype(str).tolist())"
   ]
  },
  {
   "cell_type": "code",
   "execution_count": 208,
   "id": "b869769e",
   "metadata": {},
   "outputs": [],
   "source": [
    "gamma = int(least_common, 2)\n",
    "eps = int(most_common, 2)"
   ]
  },
  {
   "cell_type": "code",
   "execution_count": 209,
   "id": "118a8ea3",
   "metadata": {},
   "outputs": [
    {
     "data": {
      "text/plain": [
       "4139586"
      ]
     },
     "execution_count": 209,
     "metadata": {},
     "output_type": "execute_result"
    }
   ],
   "source": [
    "gamma*eps"
   ]
  },
  {
   "cell_type": "markdown",
   "id": "f5d76b2f",
   "metadata": {},
   "source": [
    "# Part 2"
   ]
  },
  {
   "cell_type": "code",
   "execution_count": 220,
   "id": "fe4ca19c",
   "metadata": {},
   "outputs": [],
   "source": [
    "most_remain_array = split_array.copy()\n",
    "i = 0\n",
    "while most_remain_array.shape[0] > 1:\n",
    "    most_val = np.sum(most_remain_array[:, i])/most_remain_array.shape[0]\n",
    "    if most_val >= 0.5:\n",
    "        most_val = 1\n",
    "    else:\n",
    "        most_val = 0\n",
    "    mask = most_remain_array[:, i] == most_val\n",
    "    most_remain_array = most_remain_array[mask, :]\n",
    "    i += 1"
   ]
  },
  {
   "cell_type": "code",
   "execution_count": 225,
   "id": "0ce9eee7",
   "metadata": {},
   "outputs": [],
   "source": [
    "least_remain_array = split_array.copy()\n",
    "i = 0\n",
    "while least_remain_array.shape[0] > 1:\n",
    "    least_val = np.sum(least_remain_array[:, i])/least_remain_array.shape[0]\n",
    "    if least_val >= 0.5:\n",
    "        least_val = 0\n",
    "    else:\n",
    "        least_val = 1\n",
    "    mask = least_remain_array[:, i] == least_val\n",
    "    least_remain_array = least_remain_array[mask, :]\n",
    "    i += 1"
   ]
  },
  {
   "cell_type": "code",
   "execution_count": 222,
   "id": "3047a71c",
   "metadata": {},
   "outputs": [],
   "source": [
    "ogr = ''.join(most_remain_array[0, :].astype(str).tolist())\n",
    "csr = ''.join(least_remain_array[0, :].astype(str).tolist())\n",
    "int(ogr, 2) * int(csr, 2)"
   ]
  }
 ],
 "metadata": {
  "kernelspec": {
   "display_name": "Python 3",
   "language": "python",
   "name": "python3"
  },
  "language_info": {
   "codemirror_mode": {
    "name": "ipython",
    "version": 3
   },
   "file_extension": ".py",
   "mimetype": "text/x-python",
   "name": "python",
   "nbconvert_exporter": "python",
   "pygments_lexer": "ipython3",
   "version": "3.9.5"
  }
 },
 "nbformat": 4,
 "nbformat_minor": 5
}
